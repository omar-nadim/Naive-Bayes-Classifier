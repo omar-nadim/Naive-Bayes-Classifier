{
 "cells": [
  {
   "cell_type": "markdown",
   "metadata": {},
   "source": [
    "# Naive Bayes Classifier"
   ]
  },
  {
   "cell_type": "markdown",
   "metadata": {},
   "source": [
    "In this notebook I will implement the Naive Bayes classification algorithm from scratch using only the numpy Library."
   ]
  },
  {
   "cell_type": "markdown",
   "metadata": {},
   "source": [
    "## How does it work?"
   ]
  },
  {
   "cell_type": "markdown",
   "metadata": {},
   "source": [
    "The Naive Bayes classifier works as follows:\n",
    "\n",
    "1 - Let's suppose we have a training set, each element of the set is labeled to belong to a certain class. Let's say there are m classes $C_1,C_2,C_3,...,C_m$ \n",
    "\n",
    "2 - Each element or sample of the training set is vector of d dimensions X = ($x_1,x_2,x_3,...,x_d$).\n",
    "\n",
    "3 - Given a new sample, the classifier will predict the class based on its learning from the training set.\n",
    "\n",
    "4 - The prediction is found by calculating a set of posterior probabilities for each class and pick the highest probability, that's the class the new sample belongs to.\n",
    "\n",
    "to express this in mathematical form: The sample X belongs to the class Ci if and only if:\n",
    "                        \n",
    "$$P(C_i/X) > P(C_j/X)$$ \n",
    "\n",
    "$$j \\neq i$$\n",
    "\n",
    "The idea is to find the class that maximizes $P(C_i/X)$\n",
    "\n",
    "5 - to calculate $P(C_i/X)$, we use the Bayes Theorem. The Bayes Theorem states that:\n",
    "                                \n",
    "$$P(C_i/X) = \\frac{P(X/C_i)P(C_i)}{P(X)}$$\n",
    "\n",
    "Because $P(X)$ is the same for all classes, we will only maximize the nominator.\n",
    "\n",
    "6 - Let's first compute the easy probability $P(C_i)$. classes are categorical variables so the probabilities are calculated taking the number of samples that belong to class 'i' divided by the total number of samples in the training set.\n",
    "\n",
    "7 - For the probability $P(X/C_i)$, we make an important assumption that will justify the name of the classifer. \n",
    "we will assume that the components of X are conditionally independent. So $P(X/C_i)$ could be written as follows.\n",
    "                                \n",
    "$$P(X/C_i)=P(x_1/C_i)P(x_2/C_i)P(x_3/C_i)...P(x_d/C_i)$$\n",
    "                                \n",
    "The probabilities $P(x_j/C_i)$ can be easily estimated by using gaussian distribution if the component is continuous or in the case of categorical components we can use the same method as $P(C_i)$\n",
    "                                \n",
    "ENOUGH THEORY, LET'S CODE                                   "
   ]
  },
  {
   "cell_type": "markdown",
   "metadata": {},
   "source": [
    "## Time to apply what we have learnt"
   ]
  },
  {
   "cell_type": "markdown",
   "metadata": {},
   "source": [
    "First of all, let's import the only library we need"
   ]
  },
  {
   "cell_type": "code",
   "execution_count": 1,
   "metadata": {},
   "outputs": [],
   "source": [
    "import numpy as np"
   ]
  },
  {
   "cell_type": "markdown",
   "metadata": {},
   "source": [
    "We will start with the following data"
   ]
  },
  {
   "cell_type": "code",
   "execution_count": 2,
   "metadata": {},
   "outputs": [],
   "source": [
    "X = np.array([[-3,7],[1,5], [1,2], [-2,0], [2,3], [-4,0], [-1,1], [1,1], [-2,2], [2,7], [-4,1], [-2,7]])\n",
    "Y = np.array([3, 3, 3, 3, 4, 3, 3, 4, 3, 4, 4, 4])"
   ]
  },
  {
   "cell_type": "markdown",
   "metadata": {},
   "source": [
    "So based on the data we have two classes, 3 and 4, let's split data into two arrays, each array with the samples that belong to each class"
   ]
  },
  {
   "cell_type": "code",
   "execution_count": 3,
   "metadata": {},
   "outputs": [
    {
     "name": "stdout",
     "output_type": "stream",
     "text": [
      "[[-3  7]\n",
      " [ 1  5]\n",
      " [ 1  2]\n",
      " [-2  0]\n",
      " [-4  0]\n",
      " [-1  1]\n",
      " [-2  2]]\n"
     ]
    }
   ],
   "source": [
    "X3 = np.asarray([X[i] for i in range(len(Y)) if Y[i] == 3])# samples that belong to class 3\n",
    "print(X3)"
   ]
  },
  {
   "cell_type": "code",
   "execution_count": 4,
   "metadata": {},
   "outputs": [
    {
     "name": "stdout",
     "output_type": "stream",
     "text": [
      "[[ 2  3]\n",
      " [ 1  1]\n",
      " [ 2  7]\n",
      " [-4  1]\n",
      " [-2  7]]\n"
     ]
    }
   ],
   "source": [
    "X4 = np.asarray([X[i] for i in range(len(Y)) if Y[i] == 4])# samples that belong to class 4 \n",
    "print(X4)"
   ]
  },
  {
   "cell_type": "markdown",
   "metadata": {},
   "source": [
    "The features are continuous so we will use the gaussian distribution, let's first define the means and standard deviation for each class and each feature."
   ]
  },
  {
   "cell_type": "code",
   "execution_count": 5,
   "metadata": {},
   "outputs": [
    {
     "name": "stdout",
     "output_type": "stream",
     "text": [
      "The means for class 3 = [-1.42857143  2.42857143]\n",
      "The standard deviation for class 3 = [1.76126114 2.44114393]\n"
     ]
    }
   ],
   "source": [
    "means3 = np.mean(X3,axis=0) # means for class 3\n",
    "std3 = np.std(X3,axis=0) # standard deviation for class 3\n",
    "\n",
    "print(f'The means for class 3 = {means3}')\n",
    "print(f'The standard deviation for class 3 = {std3}')"
   ]
  },
  {
   "cell_type": "code",
   "execution_count": 6,
   "metadata": {},
   "outputs": [
    {
     "name": "stdout",
     "output_type": "stream",
     "text": [
      "The means for class 4 = [-0.2  3.8]\n",
      "The standard deviation for class 4 = [2.4        2.71293199]\n"
     ]
    }
   ],
   "source": [
    "means4 = np.mean(X4,axis=0) # means for class 4\n",
    "std4 = np.std(X4,axis=0) # standard deviation for class 4\n",
    "\n",
    "print(f'The means for class 4 = {means4}')\n",
    "print(f'The standard deviation for class 4 = {std4}')"
   ]
  },
  {
   "cell_type": "markdown",
   "metadata": {},
   "source": [
    "Let's compute P(Ci)'s "
   ]
  },
  {
   "cell_type": "code",
   "execution_count": 7,
   "metadata": {},
   "outputs": [
    {
     "name": "stdout",
     "output_type": "stream",
     "text": [
      "[0.58333333 0.41666667]\n"
     ]
    }
   ],
   "source": [
    "P_class = np.array([len(X3)/len(X),len(X4)/len(X)])\n",
    "print(P_class)"
   ]
  },
  {
   "cell_type": "markdown",
   "metadata": {},
   "source": [
    "Let's define the gaussian probability function"
   ]
  },
  {
   "cell_type": "code",
   "execution_count": 8,
   "metadata": {},
   "outputs": [],
   "source": [
    "def calculateProbability(x, mean, std):\n",
    "\treturn (1 / (np.sqrt(2*np.pi) * std)) * (np.exp(-(np.square(x-mean)/(2*np.square(std)))))"
   ]
  },
  {
   "cell_type": "markdown",
   "metadata": {},
   "source": [
    "Suppose we want to classify the following sample [-5,5]"
   ]
  },
  {
   "cell_type": "code",
   "execution_count": 9,
   "metadata": {},
   "outputs": [],
   "source": [
    "x = np.array([-5,5])"
   ]
  },
  {
   "cell_type": "code",
   "execution_count": 10,
   "metadata": {},
   "outputs": [],
   "source": [
    "P3 = calculateProbability(x,means3,std3)\n",
    "P4 = calculateProbability(x,means4,std4)"
   ]
  },
  {
   "cell_type": "markdown",
   "metadata": {},
   "source": [
    "And we multiply all the probabilities together "
   ]
  },
  {
   "cell_type": "code",
   "execution_count": 11,
   "metadata": {},
   "outputs": [
    {
     "name": "stdout",
     "output_type": "stream",
     "text": [
      "The probability of X given class 3 = 0.001586720448658235\n",
      "The probability of X given class 4 = 0.001249926418695604\n"
     ]
    }
   ],
   "source": [
    "P_x_3 = P3[0]*P3[1]*P_class[0]\n",
    "P_x_4 = P4[0]*P4[1]*P_class[1]\n",
    "\n",
    "print(f'The probability of X given class 3 = {P_x_3}')\n",
    "print(f'The probability of X given class 4 = {P_x_4}')"
   ]
  },
  {
   "cell_type": "markdown",
   "metadata": {},
   "source": [
    "As we can se the probability for class 3 is greater than the probability for class 4 so the point [-5,5] belongs to class 3"
   ]
  },
  {
   "cell_type": "markdown",
   "metadata": {},
   "source": [
    "Let's try another sample [2,5]"
   ]
  },
  {
   "cell_type": "code",
   "execution_count": 12,
   "metadata": {},
   "outputs": [],
   "source": [
    "x = np.array([2,5])"
   ]
  },
  {
   "cell_type": "code",
   "execution_count": 13,
   "metadata": {},
   "outputs": [],
   "source": [
    "P3 = calculateProbability(x,means3,std3)\n",
    "P4 = calculateProbability(x,means4,std4)"
   ]
  },
  {
   "cell_type": "code",
   "execution_count": 14,
   "metadata": {},
   "outputs": [
    {
     "name": "stdout",
     "output_type": "stream",
     "text": [
      "The probability of X given class 3 = 0.001864240041759532\n",
      "The probability of X given class 4 = 0.006067494763935239\n"
     ]
    }
   ],
   "source": [
    "P_x_3 = P3[0]*P3[1]*P_class[0]\n",
    "P_x_4 = P4[0]*P4[1]*P_class[1]\n",
    "\n",
    "print(f'The probability of X given class 3 = {P_x_3}')\n",
    "print(f'The probability of X given class 4 = {P_x_4}')"
   ]
  },
  {
   "cell_type": "markdown",
   "metadata": {},
   "source": [
    " This point belongs to class 4"
   ]
  },
  {
   "cell_type": "markdown",
   "metadata": {},
   "source": [
    "## Verify the results"
   ]
  },
  {
   "cell_type": "markdown",
   "metadata": {},
   "source": [
    "To verify the results I would like to use sklearn"
   ]
  },
  {
   "cell_type": "code",
   "execution_count": 15,
   "metadata": {},
   "outputs": [
    {
     "data": {
      "text/plain": [
       "GaussianNB(priors=None, var_smoothing=1e-09)"
      ]
     },
     "execution_count": 15,
     "metadata": {},
     "output_type": "execute_result"
    }
   ],
   "source": [
    "from sklearn.naive_bayes import GaussianNB\n",
    "clf = GaussianNB()\n",
    "clf.fit(X, Y)"
   ]
  },
  {
   "cell_type": "code",
   "execution_count": 16,
   "metadata": {},
   "outputs": [
    {
     "name": "stdout",
     "output_type": "stream",
     "text": [
      "[3]\n"
     ]
    }
   ],
   "source": [
    "print(clf.predict([[-5, 5]])) "
   ]
  },
  {
   "cell_type": "code",
   "execution_count": 17,
   "metadata": {},
   "outputs": [
    {
     "name": "stdout",
     "output_type": "stream",
     "text": [
      "[4]\n"
     ]
    }
   ],
   "source": [
    "print(clf.predict([[2, 5]]))"
   ]
  },
  {
   "cell_type": "markdown",
   "metadata": {},
   "source": [
    "As we can see with sklearn we obtain the same results"
   ]
  }
 ],
 "metadata": {
  "celltoolbar": "Raw Cell Format",
  "kernelspec": {
   "display_name": "Python 3",
   "language": "python",
   "name": "python3"
  },
  "language_info": {
   "codemirror_mode": {
    "name": "ipython",
    "version": 3
   },
   "file_extension": ".py",
   "mimetype": "text/x-python",
   "name": "python",
   "nbconvert_exporter": "python",
   "pygments_lexer": "ipython3",
   "version": "3.7.0"
  }
 },
 "nbformat": 4,
 "nbformat_minor": 2
}
